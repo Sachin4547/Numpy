{
 "cells": [
  {
   "cell_type": "markdown",
   "id": "5e3cd6a3-4c61-4797-bb37-421a5933dad8",
   "metadata": {},
   "source": [
    "import numpy as np\n",
    "\n",
    "list_ = [ ‘1’ , ’2’ , ‘3’ , ‘4’ , ‘5’ ]\n",
    "\n",
    "array_list = np.array(object = list_)\n",
    "\n",
    "Q1. Is there any difference in the data type of variables list_ and array_list? If there is then write a code\n",
    "to print the data types of both the variables."
   ]
  },
  {
   "cell_type": "markdown",
   "id": "30a66ef7-65d0-4622-9ecc-b4286e98b7cc",
   "metadata": {},
   "source": [
    "Variable List\n",
    "Typically, when someone refers to a \"variable list\" in Python, they mean a standard list object, created using square brackets. Python lists are dynamic, heterogeneous, and highly versatile.\n",
    "\n",
    "Dynamic: Can grow or shrink in size.\n",
    "Heterogeneous: Can store elements of different data types.\n",
    "Versatile: Can hold any object type (integers, strings, objects, other lists, etc.).\n",
    "\n"
   ]
  },
  {
   "cell_type": "code",
   "execution_count": 1,
   "id": "92cf6118-ad00-433e-b100-12509893c3b8",
   "metadata": {},
   "outputs": [
    {
     "name": "stdout",
     "output_type": "stream",
     "text": [
      "[1, 'two', 3.0, [4, 5]]\n"
     ]
    }
   ],
   "source": [
    "variable_list = [1, \"two\", 3.0, [4, 5]]\n",
    "print(variable_list)"
   ]
  },
  {
   "cell_type": "markdown",
   "id": "7cd61a8b-8512-4ac2-83b0-fad05d36f799",
   "metadata": {},
   "source": [
    "Array List\n",
    "\n",
    "In Python, an \"array list\" often refers to arrays provided by libraries such as array or numpy. These arrays are more specialized compared to Python's built-in lists.\n",
    "\n",
    "Python array Module\n",
    "\n",
    "Requires elements to be of the same type (homogeneous).\n",
    "\n",
    "Offers more efficient storage for large collections of elements of the same type."
   ]
  },
  {
   "cell_type": "code",
   "execution_count": 4,
   "id": "3de8dff7-f752-4305-af4c-a639a67cb650",
   "metadata": {},
   "outputs": [
    {
     "name": "stderr",
     "output_type": "stream",
     "text": [
      "/tmp/ipykernel_70/1054634963.py:4: VisibleDeprecationWarning: Creating an ndarray from ragged nested sequences (which is a list-or-tuple of lists-or-tuples-or ndarrays with different lengths or shapes) is deprecated. If you meant to do this, you must specify 'dtype=object' when creating the ndarray.\n",
      "  ar = np.array(l)\n"
     ]
    },
    {
     "data": {
      "text/plain": [
       "array(['i', list([1, 2, 3, 4])], dtype=object)"
      ]
     },
     "execution_count": 4,
     "metadata": {},
     "output_type": "execute_result"
    }
   ],
   "source": [
    "import numpy as np\n",
    "\n",
    "l = ('i', [1, 2, 3, 4])  # Array of integers\n",
    "ar = np.array(l)\n",
    "ar\n"
   ]
  },
  {
   "cell_type": "markdown",
   "id": "fcffd527-f5ae-46dc-ad0d-6b2f0c87e4d1",
   "metadata": {},
   "source": [
    "Q2. Write a code to print the data type of each and every element of both the variables list_ and\n",
    "arra_list."
   ]
  },
  {
   "cell_type": "code",
   "execution_count": 5,
   "id": "e4385366-8b4b-4a67-a0c8-4f21ba34ef66",
   "metadata": {},
   "outputs": [
    {
     "data": {
      "text/plain": [
       "array(['i', list([1, 2, 3, 4])], dtype=object)"
      ]
     },
     "execution_count": 5,
     "metadata": {},
     "output_type": "execute_result"
    }
   ],
   "source": [
    "ar"
   ]
  },
  {
   "cell_type": "code",
   "execution_count": 28,
   "id": "953b7c58-bee7-45bb-ba87-2ea37308e7c9",
   "metadata": {},
   "outputs": [
    {
     "name": "stdout",
     "output_type": "stream",
     "text": [
      "object\n"
     ]
    }
   ],
   "source": [
    "print(ar.dtype)\n"
   ]
  },
  {
   "cell_type": "code",
   "execution_count": 20,
   "id": "93e4d385-204a-48fa-8a00-75d471cff90c",
   "metadata": {},
   "outputs": [
    {
     "data": {
      "text/plain": [
       "[1, 'two', 3.0, [4, 5]]"
      ]
     },
     "execution_count": 20,
     "metadata": {},
     "output_type": "execute_result"
    }
   ],
   "source": [
    "variable_list"
   ]
  },
  {
   "cell_type": "markdown",
   "id": "f71843d7-90f0-44d5-bf18-13ed2b19b041",
   "metadata": {},
   "source": [
    "Q3. Considering the following changes in the variable, array_list:\n",
    "\n",
    "array_list = np.array(object = list_, dtype = int)\n",
    "\n",
    "Will there be any difference in the data type of the elements present in both the variables, list_ and\n",
    "arra_list? If so then print the data types of each and every element present in both the variables, list_\n",
    "and arra_list.\n",
    "\n",
    "Consider the below code to answer further questions:\n",
    "\n",
    "import numpy as np\n",
    "\n",
    "num_list = [ [ 1 , 2 , 3 ] , [ 4 , 5 , 6 ] ]\n",
    "\n",
    "num_array = np.array(object = num_list)"
   ]
  },
  {
   "cell_type": "code",
   "execution_count": 32,
   "id": "e6e9e366-5d71-4caa-850e-8877d90b154c",
   "metadata": {},
   "outputs": [],
   "source": [
    "num_list = [[1,2,3],[4,5,6]]\n",
    "import numpy as np\n",
    "num = np.array(num_list)"
   ]
  },
  {
   "cell_type": "code",
   "execution_count": 34,
   "id": "e58c7a67-d50f-4697-a348-4be85170921e",
   "metadata": {},
   "outputs": [
    {
     "name": "stdout",
     "output_type": "stream",
     "text": [
      "int64\n"
     ]
    }
   ],
   "source": [
    "print(num.dtype)"
   ]
  },
  {
   "cell_type": "markdown",
   "id": "bb6edc4e-d62e-4d0c-bbe0-cb3154998c8d",
   "metadata": {},
   "source": [
    "Q4. Write a code to find the following characteristics of variable, num_array:\n",
    "\n",
    "(i) shape\n",
    "\n",
    "(ii) size"
   ]
  },
  {
   "cell_type": "code",
   "execution_count": 35,
   "id": "731e142b-337e-4192-923a-3d6b73b14fc5",
   "metadata": {},
   "outputs": [
    {
     "name": "stdout",
     "output_type": "stream",
     "text": [
      "Shape of num_array: (2, 3)\n",
      "Size of num_array: 6\n"
     ]
    }
   ],
   "source": [
    "import numpy as np\n",
    "\n",
    "# Create a nested list\n",
    "num_list = [[1, 2, 3], [4, 5, 6]]\n",
    "\n",
    "# Convert the nested list to a NumPy array\n",
    "num_array = np.array(num_list)\n",
    "\n",
    "# Find the shape of the NumPy array\n",
    "array_shape = num_array.shape\n",
    "\n",
    "# Find the size of the NumPy array\n",
    "array_size = num_array.size\n",
    "\n",
    "# Print the shape and size\n",
    "print(\"Shape of num_array:\", array_shape)\n",
    "print(\"Size of num_array:\", array_size)\n"
   ]
  },
  {
   "cell_type": "markdown",
   "id": "837c09d7-0112-451a-997a-6bbdd7ef8fc6",
   "metadata": {},
   "source": [
    "Q5. Write a code to create numpy array of 3*3 matrix containing zeros only, using a numpy array\n",
    "creation function."
   ]
  },
  {
   "cell_type": "code",
   "execution_count": 36,
   "id": "6af395a3-a9f6-44b3-a929-741c032b4932",
   "metadata": {},
   "outputs": [
    {
     "name": "stdout",
     "output_type": "stream",
     "text": [
      "[[0. 0. 0.]\n",
      " [0. 0. 0.]\n",
      " [0. 0. 0.]]\n"
     ]
    }
   ],
   "source": [
    "import numpy as np\n",
    "\n",
    "# Create a 3x3 matrix of zeros\n",
    "zeros_matrix = np.zeros((3, 3))\n",
    "\n",
    "# Print the zeros matrix\n",
    "print(zeros_matrix)\n"
   ]
  },
  {
   "cell_type": "markdown",
   "id": "fe79163e-cc06-4277-bd91-00f538d0a8e0",
   "metadata": {},
   "source": [
    "Q6. Create an identity matrix of shape (5,5) using numpy functions?"
   ]
  },
  {
   "cell_type": "code",
   "execution_count": 38,
   "id": "56fd6b87-e365-4e82-97a2-9ebd49d5aacd",
   "metadata": {},
   "outputs": [
    {
     "ename": "SyntaxError",
     "evalue": "invalid syntax (57888014.py, line 2)",
     "output_type": "error",
     "traceback": [
      "\u001b[0;36m  Cell \u001b[0;32mIn[38], line 2\u001b[0;36m\u001b[0m\n\u001b[0;31m    identity matrix = np.eye(5,5)\u001b[0m\n\u001b[0m             ^\u001b[0m\n\u001b[0;31mSyntaxError\u001b[0m\u001b[0;31m:\u001b[0m invalid syntax\n"
     ]
    }
   ],
   "source": [
    "import numpy.matlib as nm\n"
   ]
  },
  {
   "cell_type": "code",
   "execution_count": null,
   "id": "860d57c0-0bff-4854-a961-86738c6afe37",
   "metadata": {},
   "outputs": [],
   "source": []
  }
 ],
 "metadata": {
  "kernelspec": {
   "display_name": "Python 3 (ipykernel)",
   "language": "python",
   "name": "python3"
  },
  "language_info": {
   "codemirror_mode": {
    "name": "ipython",
    "version": 3
   },
   "file_extension": ".py",
   "mimetype": "text/x-python",
   "name": "python",
   "nbconvert_exporter": "python",
   "pygments_lexer": "ipython3",
   "version": "3.10.8"
  }
 },
 "nbformat": 4,
 "nbformat_minor": 5
}
